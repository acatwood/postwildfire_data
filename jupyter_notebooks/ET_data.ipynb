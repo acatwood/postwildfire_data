{
 "cells": [
  {
   "cell_type": "code",
   "execution_count": null,
   "id": "6d8ea3e2",
   "metadata": {},
   "outputs": [],
   "source": [
    "import pandas as pd\n",
    "import numpy as np\n",
    "from matplotlib.ticker import StrMethodFormatter\n",
    "import seaborn as sns\n",
    "import matplotlib.pyplot as plt\n",
    "from matplotlib.ticker import MaxNLocator\n",
    "import rasterio as rio\n",
    "from rasterio.plot import show\n",
    "from rasterstats import zonal_stats\n",
    "import geopandas as gpd\n",
    "import earthpy.plot as ep\n",
    "import os\n",
    "import scipy.sparse as sparse\n",
    "import rioxarray as rxr\n",
    "from scipy import stats"
   ]
  },
  {
   "cell_type": "code",
   "execution_count": null,
   "id": "77147dcf",
   "metadata": {},
   "outputs": [],
   "source": [
    "#use to hide hidden files in folder from path\n",
    "def listdir_nohidden(path):\n",
    "    for f in os.listdir(path):\n",
    "        if not f.startswith('.'):\n",
    "            yield f"
   ]
  },
  {
   "cell_type": "code",
   "execution_count": null,
   "id": "573367f3",
   "metadata": {},
   "outputs": [],
   "source": [
    "#upload catchments polygon shapefile\n",
    "catchments = gpd.read_file(r'/path/to/data/PWFH_code/datasets/ET_datasets/catchment_polygons_3857.shp')\n",
    "#reproject to wgs84\n",
    "catchments_wgs84  = catchments.to_crs(\"EPSG:4326\")"
   ]
  },
  {
   "cell_type": "code",
   "execution_count": null,
   "id": "59bf4417",
   "metadata": {},
   "outputs": [],
   "source": [
    "#for loop to read in all raster files from ECOSTRESS for all dates between Oct 2019-Oct 2022, separated by catchment\n",
    "henry_ET=[]\n",
    "louise_ET=[]\n",
    "thelma_ET=[]\n",
    "for files in listdir_nohidden('/path/to/data/PWFH_code/datasets/ET_datasets/ecostress_rasters_example'):\n",
    "    src=rio.open(r'/path/to/data/PWFH_code/datasets/ET_datasets/ecostress_rasters_example'+ '/'+files)\n",
    "    affine = src.transform\n",
    "    array = src.read(1)\n",
    "    date= files[53:60] #pull date from file name\n",
    "    year=date[0:4] #pull year \n",
    "    day=date[4:7]  #pull date\n",
    "    #find zonal stats based on each catchment\n",
    "    df_zonal_stats = zonal_stats(catchments_wgs84, array, affine=affine, nodata=np.nan, stats=[\"median\", \"mean\", \"max\"]) \n",
    "    #add catchment stats, day, year and catchment name to as a dictionary for each catchment\n",
    "    henry_ET.append({\"ET_mean\":df_zonal_stats[0]['mean'], \"ET_median\":df_zonal_stats[0]['median'], \"ET_max\":df_zonal_stats[0]['max'],\n",
    "                     \"location\":\"Henry\", \"day\":day, \"year\":year})\n",
    "    louise_ET.append({\"ET_mean\":df_zonal_stats[1]['mean'], \"ET_median\":df_zonal_stats[1]['median'], \"ET_max\":df_zonal_stats[1]['max'],\n",
    "                      \"location\":\"Louise\", \"day\":day, \"year\":year})\n",
    "    thelma_ET.append({\"ET_mean\":df_zonal_stats[2]['mean'], \"ET_median\":df_zonal_stats[2]['median'], \"ET_max\":df_zonal_stats[2]['max'],\n",
    "                      \"location\":\"Thelma\", \"day\":day, \"year\":year})"
   ]
  },
  {
   "cell_type": "code",
   "execution_count": null,
   "id": "41b94ef3",
   "metadata": {},
   "outputs": [],
   "source": [
    "#create pandas dataframe from above dictionary\n",
    "henry=pd.DataFrame.from_dict(henry_ET)\n",
    "louise=pd.DataFrame.from_dict(louise_ET)\n",
    "thelma=pd.DataFrame.from_dict(thelma_ET)"
   ]
  },
  {
   "cell_type": "code",
   "execution_count": null,
   "id": "e151411b",
   "metadata": {},
   "outputs": [],
   "source": [
    "#merge datasets, make workable datetime index\n",
    "ET_data=pd.concat([henry, louise, thelma])\n",
    "ET_data['day']=pd.to_numeric(ET_data[\"day\"], downcast=\"float\")\n",
    "ET_data['year']=pd.to_numeric(ET_data[\"year\"], downcast=\"float\")\n",
    "ET_data[\"combined\"] = ET_data[\"year\"]*1000 + ET_data[\"day\"]\n",
    "ET_data[\"date\"] = pd.to_datetime(ET_data[\"combined\"], format = \"%Y%j\")\n",
    "\n",
    "#filter out data that gives below 0 ET or 3 standard deviation away from mean \n",
    "ET_filtered = ET_data[ET_data['ET_median'] >= 0]\n",
    "z = np.abs(stats.zscore(ET_filtered['ET_median']))\n",
    "ET_filtered=ET_filtered.drop(drop[0])\n",
    "\n",
    "#check that there is a similar number of ET datasets at each location\n",
    "print(len(ET_filtered[ET_filtered['location']== 'Henry']))\n",
    "print(len(ET_filtered[ET_filtered['location']== 'Louise']))\n",
    "print(len(ET_filtered[ET_filtered['location']== 'Thelma']))"
   ]
  },
  {
   "cell_type": "code",
   "execution_count": null,
   "id": "91b652a9",
   "metadata": {},
   "outputs": [],
   "source": [
    "#locate data for each water year\n",
    "#greater than the start date and smaller than the end date\n",
    "premask = (ET_filtered['date'] > '2019-10-1') & (ET_filtered['date'] <= '2020-10-1')\n",
    "#greater than the start date and smaller than the end date\n",
    "wy1mask = (ET_filtered['date'] > '2020-10-1') & (ET_filtered['date'] <= '2021-10-1')\n",
    "#greater than the start date and smaller than the end date\n",
    "wy2mask = (ET_filtered['date'] > '2021-10-1') & (ET_filtered['date'] <= '2022-10-1')\n",
    "ET_pre=ET_filtered.loc[premask]\n",
    "ET_WY1=ET_filtered.loc[wy1mask]\n",
    "ET_WY2=ET_filtered.loc[wy2mask]"
   ]
  },
  {
   "cell_type": "code",
   "execution_count": null,
   "id": "486f0cea",
   "metadata": {},
   "outputs": [],
   "source": [
    "#calculate annual median ET for each catchment\n",
    "prefire_mean=ET_pre.groupby('location', as_index=False)['ET_median'].median()\n",
    "wy1_mean=ET_WY1.groupby('location', as_index=False)['ET_median'].median()\n",
    "wy2_mean=ET_WY2.groupby('location', as_index=False)['ET_median'].median()\n",
    "medians=pd.concat([prefire_mean, wy1_mean, wy2_mean])\n",
    "\n",
    "medians=pd.DataFrame(medians)\n",
    "medians['annual_watts']=medians['ET_median']*365\n",
    "print(medians)"
   ]
  },
  {
   "cell_type": "code",
   "execution_count": null,
   "id": "75acfb6a",
   "metadata": {},
   "outputs": [],
   "source": []
  }
 ],
 "metadata": {
  "kernelspec": {
   "display_name": "Python 3 (ipykernel)",
   "language": "python",
   "name": "python3"
  },
  "language_info": {
   "codemirror_mode": {
    "name": "ipython",
    "version": 3
   },
   "file_extension": ".py",
   "mimetype": "text/x-python",
   "name": "python",
   "nbconvert_exporter": "python",
   "pygments_lexer": "ipython3",
   "version": "3.9.13"
  }
 },
 "nbformat": 4,
 "nbformat_minor": 5
}
