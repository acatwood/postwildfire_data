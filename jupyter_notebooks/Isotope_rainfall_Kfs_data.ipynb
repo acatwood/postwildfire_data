{
 "cells": [
  {
   "cell_type": "code",
   "execution_count": 1,
   "id": "da43c431",
   "metadata": {},
   "outputs": [],
   "source": [
    "#import packages\n",
    "import pandas as pd\n",
    "import numpy as np\n",
    "import datetime\n",
    "import scipy\n",
    "from scipy import stats\n",
    "from scipy.optimize import curve_fit"
   ]
  },
  {
   "cell_type": "code",
   "execution_count": 4,
   "id": "c1c0fe6d",
   "metadata": {},
   "outputs": [],
   "source": [
    "#I#SOTOPE DATA##\n",
    "#read in isotope data and turn it into pandas dataframe\n",
    "SG_water=pd.read_csv('/path/to/dataset/PWFH_code/datasets/SanGabes_WaterIsotopeData.csv')\n",
    "df=pd.DataFrame(SG_water)\n",
    "\n",
    "#set timestamp, calculate d-excess, group data by sample type, streams and storm number\n",
    "df['timestamp']=df['Date']+' '+df['Time']\n",
    "df['date_time']=pd.to_datetime(df['timestamp'])\n",
    "df['d-excess']=df['𝛿D']-8*df['𝛿18O']\n",
    "streams=df.loc[df['Sample Type'] == 'Stream']\n",
    "rain=df.loc[df['Sample Type'] == 'Rain']\n",
    "intrain=df.loc[df['Sample Type'] == 'Integrated Rain']\n",
    "storm1=df.loc[df['Storm'] =='storm 1']\n",
    "storm2=df.loc[df['Storm'] =='storm 2']\n",
    "storm3=df.loc[df['Storm'] =='storm 3']\n",
    "storm4=df.loc[df['Storm'] =='storm 4']\n",
    "storm5=df.loc[df['Storm'] =='storm 5']\n",
    "storm6=df.loc[df['Storm'] =='storm 6']\n",
    "storm7=df.loc[df['Storm'] =='storm 7']\n",
    "df_sorted=df.sort_values(by='date_time')\n",
    "\n",
    "#make custom color map by location\n",
    "colors=['#F26513','#F2921D', '#019966' ]\n",
    "locations=['Louise','Thelma', 'Henry']\n",
    "cmap=dict(zip(locations, colors))"
   ]
  },
  {
   "cell_type": "code",
   "execution_count": 15,
   "id": "75e8e5cd",
   "metadata": {},
   "outputs": [],
   "source": [
    "##RAINFALL DATA##\n",
    "#read in rainfall data and turn it into pandas dataframe\n",
    "precip=pd.read_csv('/path/to/dataset/PWFH_code/datasets/Bobat_Fire_Rain_Gauge_Dec2020_May2022.csv')\n",
    "precip=pd.DataFrame(precip)\n",
    "\n",
    "#set date time and other titles\n",
    "precip['date_time']=pd.to_datetime(precip['Date and Time'])\n",
    "precip['rain_units']=precip['Rainfall units']\n",
    "precip['cum_rain_cm']=precip['Cumulative Rainfall  (cm) ']\n",
    "precip['rain_cm']=precip['Rainfall (cm)']\n",
    "precip=precip.set_index('date_time')"
   ]
  },
  {
   "cell_type": "code",
   "execution_count": 16,
   "id": "760d4543",
   "metadata": {},
   "outputs": [
    {
     "name": "stderr",
     "output_type": "stream",
     "text": [
      "/var/folders/14/ghgmys9n68bgp8t79gqjtc4w0000gn/T/ipykernel_45205/2416385715.py:2: SettingWithCopyWarning: \n",
      "A value is trying to be set on a copy of a slice from a DataFrame.\n",
      "Try using .loc[row_indexer,col_indexer] = value instead\n",
      "\n",
      "See the caveats in the documentation: https://pandas.pydata.org/pandas-docs/stable/user_guide/indexing.html#returning-a-view-versus-a-copy\n",
      "  storm1['weightediso']=(storm1['𝛿18O']*storm1['Rain (cm)'])/(storm1['Rain (cm)'].sum())\n",
      "/var/folders/14/ghgmys9n68bgp8t79gqjtc4w0000gn/T/ipykernel_45205/2416385715.py:4: SettingWithCopyWarning: \n",
      "A value is trying to be set on a copy of a slice from a DataFrame.\n",
      "Try using .loc[row_indexer,col_indexer] = value instead\n",
      "\n",
      "See the caveats in the documentation: https://pandas.pydata.org/pandas-docs/stable/user_guide/indexing.html#returning-a-view-versus-a-copy\n",
      "  storm2['weightediso']=(storm2['𝛿18O']*storm2['Rain (cm)'])/(storm2['Rain (cm)'].sum())\n",
      "/var/folders/14/ghgmys9n68bgp8t79gqjtc4w0000gn/T/ipykernel_45205/2416385715.py:6: SettingWithCopyWarning: \n",
      "A value is trying to be set on a copy of a slice from a DataFrame.\n",
      "Try using .loc[row_indexer,col_indexer] = value instead\n",
      "\n",
      "See the caveats in the documentation: https://pandas.pydata.org/pandas-docs/stable/user_guide/indexing.html#returning-a-view-versus-a-copy\n",
      "  storm3['weightediso']=(storm3['𝛿18O']*storm3['Rain (cm)'])/(storm3['Rain (cm)'].sum())\n",
      "/var/folders/14/ghgmys9n68bgp8t79gqjtc4w0000gn/T/ipykernel_45205/2416385715.py:8: SettingWithCopyWarning: \n",
      "A value is trying to be set on a copy of a slice from a DataFrame.\n",
      "Try using .loc[row_indexer,col_indexer] = value instead\n",
      "\n",
      "See the caveats in the documentation: https://pandas.pydata.org/pandas-docs/stable/user_guide/indexing.html#returning-a-view-versus-a-copy\n",
      "  storm4['weightediso']=(storm4['𝛿18O']*storm4['Rain (cm)'])/(storm4['Rain (cm)'].sum())\n",
      "/var/folders/14/ghgmys9n68bgp8t79gqjtc4w0000gn/T/ipykernel_45205/2416385715.py:10: SettingWithCopyWarning: \n",
      "A value is trying to be set on a copy of a slice from a DataFrame.\n",
      "Try using .loc[row_indexer,col_indexer] = value instead\n",
      "\n",
      "See the caveats in the documentation: https://pandas.pydata.org/pandas-docs/stable/user_guide/indexing.html#returning-a-view-versus-a-copy\n",
      "  storm5['weightediso']=(storm5['𝛿18O']*storm5['Rain (cm)'])/(storm5['Rain (cm)'].sum())\n",
      "/var/folders/14/ghgmys9n68bgp8t79gqjtc4w0000gn/T/ipykernel_45205/2416385715.py:12: SettingWithCopyWarning: \n",
      "A value is trying to be set on a copy of a slice from a DataFrame.\n",
      "Try using .loc[row_indexer,col_indexer] = value instead\n",
      "\n",
      "See the caveats in the documentation: https://pandas.pydata.org/pandas-docs/stable/user_guide/indexing.html#returning-a-view-versus-a-copy\n",
      "  storm6['weightediso']=(storm6['𝛿18O']*storm6['Rain (cm)'])/(storm6['Rain (cm)'].sum())\n",
      "/var/folders/14/ghgmys9n68bgp8t79gqjtc4w0000gn/T/ipykernel_45205/2416385715.py:14: SettingWithCopyWarning: \n",
      "A value is trying to be set on a copy of a slice from a DataFrame.\n",
      "Try using .loc[row_indexer,col_indexer] = value instead\n",
      "\n",
      "See the caveats in the documentation: https://pandas.pydata.org/pandas-docs/stable/user_guide/indexing.html#returning-a-view-versus-a-copy\n",
      "  storm7['weightediso']=(storm7['𝛿18O']*storm7['Rain (cm)'])/(storm7['Rain (cm)'].sum())\n"
     ]
    }
   ],
   "source": [
    "#calculate average precipitation weighted isotopic value for each storm\n",
    "storm1['weightediso']=(storm1['𝛿18O']*storm1['Rain (cm)'])/(storm1['Rain (cm)'].sum())\n",
    "s1pw18O=storm1['weightediso'].sum()\n",
    "storm2['weightediso']=(storm2['𝛿18O']*storm2['Rain (cm)'])/(storm2['Rain (cm)'].sum())\n",
    "s2pw18O=storm2['weightediso'].sum()\n",
    "storm3['weightediso']=(storm3['𝛿18O']*storm3['Rain (cm)'])/(storm3['Rain (cm)'].sum())\n",
    "s3pw18O=storm3['weightediso'].sum()\n",
    "storm4['weightediso']=(storm4['𝛿18O']*storm4['Rain (cm)'])/(storm4['Rain (cm)'].sum())\n",
    "s4pw18O=storm4['weightediso'].sum()\n",
    "storm5['weightediso']=(storm5['𝛿18O']*storm5['Rain (cm)'])/(storm5['Rain (cm)'].sum())\n",
    "s5pw18O=storm5['weightediso'].sum()\n",
    "storm6['weightediso']=(storm6['𝛿18O']*storm6['Rain (cm)'])/(storm6['Rain (cm)'].sum())\n",
    "s6pw18O=storm6['weightediso'].sum()\n",
    "storm7['weightediso']=(storm7['𝛿18O']*storm7['Rain (cm)'])/(storm7['Rain (cm)'].sum())\n",
    "s7pw18O=storm7['weightediso'].sum()"
   ]
  },
  {
   "cell_type": "code",
   "execution_count": 17,
   "id": "dffb78b5",
   "metadata": {},
   "outputs": [],
   "source": [
    "##Calculate relationship between rainfall intensity, Fnew and Kfs values##"
   ]
  },
  {
   "cell_type": "code",
   "execution_count": 18,
   "id": "5e2ffe0d",
   "metadata": {},
   "outputs": [],
   "source": [
    "##Fnew## \n",
    "#resample rainfall data for every 30 minutes, change units to mm/hr and find log rainfall\n",
    "precip_30=pd.DataFrame()\n",
    "precip_30['rain_cm']=precip.rain_cm.resample('30min', closed=\"left\", label='right', origin='start').sum()\n",
    "precip_30['rain_mm']=precip_30['rain_cm']*10\n",
    "precip_30['rain_mmhr']=precip_30['rain_mm']*4\n",
    "precip_30['rain_mmhr']=precip_30['rain_mmhr'].replace(0,np.nan)\n",
    "precip_30['log_rain_mmhr']=  np.log10(precip_30['rain_mmhr'])\n"
   ]
  },
  {
   "cell_type": "code",
   "execution_count": 19,
   "id": "5c39aeb5",
   "metadata": {},
   "outputs": [
    {
     "name": "stderr",
     "output_type": "stream",
     "text": [
      "/var/folders/14/ghgmys9n68bgp8t79gqjtc4w0000gn/T/ipykernel_45205/2302232642.py:6: FutureWarning: Value based partial slicing on non-monotonic DatetimeIndexes with non-existing keys is deprecated and will raise a KeyError in a future Version.\n",
      "  storm4_fnew=fnew.loc['2021-12-14':'2021-12-15']\n",
      "/var/folders/14/ghgmys9n68bgp8t79gqjtc4w0000gn/T/ipykernel_45205/2302232642.py:8: FutureWarning: Value based partial slicing on non-monotonic DatetimeIndexes with non-existing keys is deprecated and will raise a KeyError in a future Version.\n",
      "  storm5_fnew=fnew.loc['2021-12-23':'2021-12-24']\n"
     ]
    }
   ],
   "source": [
    "##read in fnew isotope data, add timstamp and locate storms with Fnew values ##\n",
    "fnew=pd.read_csv('/path/to/dataset/PWFH_code/datasets/SanGabes_Fnew_isotopes.csv')\n",
    "fnew['timestamp']=fnew['Date']+' '+fnew['Time']\n",
    "fnew['date_time']=pd.to_datetime(fnew['timestamp'])\n",
    "fnew=fnew.set_index('date_time')\n",
    "storm4_fnew=fnew.loc['2021-12-14':'2021-12-15']\n",
    "storm4_fnew=storm4_fnew.sort_values(by='date_time')\n",
    "storm5_fnew=fnew.loc['2021-12-23':'2021-12-24']\n",
    "storm5_fnew=storm5_fnew.sort_values(by='date_time')"
   ]
  },
  {
   "cell_type": "code",
   "execution_count": 20,
   "id": "f0afc8b7",
   "metadata": {},
   "outputs": [
    {
     "name": "stdout",
     "output_type": "stream",
     "text": [
      "(array([25]),)\n",
      "(array([ 0,  1, 25, 27, 34]),)\n"
     ]
    }
   ],
   "source": [
    "##Kfs Values ##\n",
    "#read in Kfs values\n",
    "SG_Ks=pd.read_csv('/path/to/dataset/PWFH_code/datasets/Kfs_results.csv')\n",
    "Ks=pd.DataFrame(SG_Ks)\n",
    "\n",
    "##replace 0 infiltration with extremely low infiltration rate for log conversion \n",
    "Ks.replace(0,0.000001,inplace=True)\n",
    "\n",
    "#drop values higher than 3 standard deviation based on z-score\n",
    "z = np.abs(stats.zscore(Ks['Ks (mm/hr)']))\n",
    "print(np.where(z>3))\n",
    "Ks=Ks.drop([25])\n",
    "#calculate log of Ks values\n",
    "Ks['log_ks_mmhr']= np.log10(Ks['Ks (mm/hr)'])\n",
    "z = np.abs(stats.zscore(Ks['log_ks_mmhr']))\n",
    "print(np.where(z > 3))\n",
    "\n",
    "#separate data by catchment\n",
    "henry=Ks.loc[Ks['Location']== 'Henry']\n",
    "louise=Ks.loc[Ks['Location']== 'Louise']\n",
    "thelma=Ks.loc[Ks['Location']== 'Thelma']\n",
    "#find median log kfs values in mm/hr\n",
    "HKfs=henry['log_ks_mmhr'].median()\n",
    "LKfs=louise['log_ks_mmhr'].median()\n",
    "\n",
    "#calculate the 30 min precipitation intensity devided by the median log kfs value at each catchment\n",
    "precip_30['rain_intens/Lkfs']= precip_30['log_rain_mmhr']/LKfs\n",
    "precip_30['rain_intens/Hkfs']= precip_30['log_rain_mmhr']/HKfs\n",
    "\n",
    "#locate 30minute precip data for storms with calculable Fnew values  \n",
    "storm4_precip=precip_30.loc['2021-12-14':'2021-12-15']\n",
    "storm5_precip=precip_30.loc['2021-12-23':'2021-12-24']"
   ]
  },
  {
   "cell_type": "code",
   "execution_count": 21,
   "id": "6ace3307",
   "metadata": {},
   "outputs": [
    {
     "name": "stdout",
     "output_type": "stream",
     "text": [
      "(array([37, 48, 49, 52]),)\n"
     ]
    },
    {
     "name": "stderr",
     "output_type": "stream",
     "text": [
      "/var/folders/14/ghgmys9n68bgp8t79gqjtc4w0000gn/T/ipykernel_45205/1874414420.py:27: SettingWithCopyWarning: \n",
      "A value is trying to be set on a copy of a slice from a DataFrame.\n",
      "Try using .loc[row_indexer,col_indexer] = value instead\n",
      "\n",
      "See the caveats in the documentation: https://pandas.pydata.org/pandas-docs/stable/user_guide/indexing.html#returning-a-view-versus-a-copy\n",
      "  louise_merged['Kfs_reg']=louise_merged['rain_intens/Lkfs']\n",
      "/var/folders/14/ghgmys9n68bgp8t79gqjtc4w0000gn/T/ipykernel_45205/1874414420.py:28: SettingWithCopyWarning: \n",
      "A value is trying to be set on a copy of a slice from a DataFrame.\n",
      "Try using .loc[row_indexer,col_indexer] = value instead\n",
      "\n",
      "See the caveats in the documentation: https://pandas.pydata.org/pandas-docs/stable/user_guide/indexing.html#returning-a-view-versus-a-copy\n",
      "  henry_merged['Kfs_reg']=henry_merged['rain_intens/Hkfs']\n"
     ]
    }
   ],
   "source": [
    "#merge storm precipitation and storm fnew value based on date time\n",
    "#for storm 4\n",
    "merged=pd.merge_asof(storm4_fnew, storm4_precip, on=\"date_time\", direction=\"nearest\")\n",
    "louise_merged=merged.loc[merged['Location'] =='Louise']\n",
    "henry_merged=merged.loc[merged['Location'] =='Henry']\n",
    "#for storm 5\n",
    "merged2=pd.merge_asof(storm5_fnew, storm5_precip, on=\"date_time\", direction=\"nearest\")\n",
    "louise_merged2=merged2.loc[merged2['Location'] =='Louise']\n",
    "henry_merged2=merged2.loc[merged2['Location'] =='Henry']\n",
    "#drop any non number values from the four datasets\n",
    "henry_merged2=henry_merged2.dropna()\n",
    "louise_merged2=louise_merged2.dropna()\n",
    "henry_merged=henry_merged.dropna()\n",
    "louise_merged=louise_merged.dropna()\n",
    "#combine locational datasets\n",
    "louise=pd.concat([louise_merged,  louise_merged2])\n",
    "henry=pd.concat([henry_merged, henry_merged2])\n",
    "#drop outliers\n",
    "merged=pd.concat([louise, henry])\n",
    "z = np.abs(stats.zscore(merged['Fnew']))\n",
    "print(np.where(z > 3))\n",
    "merged.drop(merged.index[[37, 48, 49, 52]], inplace=True)\n",
    "\n",
    "#separate datasets by location after droping outliers\n",
    "henry_merged=merged.loc[merged['Location'] =='Henry']\n",
    "louise_merged=merged.loc[merged['Location'] =='Louise']\n",
    "louise_merged['Kfs_reg']=louise_merged['rain_intens/Lkfs']\n",
    "henry_merged['Kfs_reg']=henry_merged['rain_intens/Hkfs']\n",
    "merged=pd.concat([louise_merged, henry_merged])\n"
   ]
  },
  {
   "cell_type": "code",
   "execution_count": 22,
   "id": "d43aa32b",
   "metadata": {},
   "outputs": [],
   "source": [
    "# calculate function to fit for linear regression:\n",
    "def fit_func(x, m, b):\n",
    "    return (m*x) + b"
   ]
  },
  {
   "cell_type": "code",
   "execution_count": 24,
   "id": "314349f0",
   "metadata": {},
   "outputs": [
    {
     "name": "stdout",
     "output_type": "stream",
     "text": [
      "0.15089376379382047\n"
     ]
    }
   ],
   "source": [
    "# calculate linear regression of rainfall intenisty/kfs vs Fnew\n",
    "# model fit on full sample of data:\n",
    "Fpars, Fcov = curve_fit(f=fit_func, xdata=merged['Kfs_reg'], ydata=merged['Fnew']) \n",
    "\n",
    "# fitted plot values (for CI)\n",
    "x_fitted = (merged['Kfs_reg'])\n",
    "y_fitted = fit_func(x_fitted, *Fpars)\n",
    "\n",
    "residuals=(merged['Fnew']-y_fitted)\n",
    "ss_res=np.sum(residuals**2)\n",
    "ss_tot=np.sum((merged['Fnew']-np.mean(merged['Fnew']))**2)\n",
    "r_squared=1-(ss_res/ss_tot)\n",
    "print(r_squared)"
   ]
  },
  {
   "cell_type": "code",
   "execution_count": null,
   "id": "e983176f",
   "metadata": {},
   "outputs": [],
   "source": []
  }
 ],
 "metadata": {
  "kernelspec": {
   "display_name": "Python 3 (ipykernel)",
   "language": "python",
   "name": "python3"
  },
  "language_info": {
   "codemirror_mode": {
    "name": "ipython",
    "version": 3
   },
   "file_extension": ".py",
   "mimetype": "text/x-python",
   "name": "python",
   "nbconvert_exporter": "python",
   "pygments_lexer": "ipython3",
   "version": "3.9.13"
  }
 },
 "nbformat": 4,
 "nbformat_minor": 5
}
